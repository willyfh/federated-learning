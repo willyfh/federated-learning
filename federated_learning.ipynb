{
  "nbformat": 4,
  "nbformat_minor": 0,
  "metadata": {
    "colab": {
      "name": "reproducing_federated_learning.ipynb",
      "provenance": [],
      "collapsed_sections": []
    },
    "kernelspec": {
      "name": "python3",
      "display_name": "Python 3"
    }
  },
  "cells": [
    {
      "cell_type": "markdown",
      "metadata": {
        "id": "6qzp4bsbF8Y1"
      },
      "source": [
        "## Parameters"
      ]
    },
    {
      "cell_type": "code",
      "metadata": {
        "id": "AXkT1Xqycmrb"
      },
      "source": [
        "MODEL = 'cnn' # mlp or cnn\r\n",
        "DATA = 'noniid' # iid or noniid\r\n",
        "N_CLIENTS = 100\r\n",
        "C = 0.1\r\n",
        "E = 1\r\n",
        "B = 10 # 'all' for a single minibatch\r\n",
        "\r\n",
        "c_rounds = 200\r\n",
        "\r\n",
        "lrs = [0.1] # learning rate\r\n",
        "\r\n",
        "target_test_acc = 0.99"
      ],
      "execution_count": 4,
      "outputs": []
    },
    {
      "cell_type": "markdown",
      "metadata": {
        "id": "TVsGBxRTFVel"
      },
      "source": [
        "## Mount to Google Drive (Optional)"
      ]
    },
    {
      "cell_type": "markdown",
      "metadata": {
        "id": "5RDcP_vEFamk"
      },
      "source": [
        "If the training & testing result want to be saved to Google Drive"
      ]
    },
    {
      "cell_type": "code",
      "metadata": {
        "id": "fyJDWf78PLV4"
      },
      "source": [
        "# from google.colab import drive\r\n",
        "# drive.flush_and_unmount()\r\n",
        "# drive.mount('/content/drive/', force_remount=True)"
      ],
      "execution_count": 5,
      "outputs": []
    },
    {
      "cell_type": "code",
      "metadata": {
        "id": "Bwy6z2eyTt62"
      },
      "source": [
        "# dir = '/content/drive/MyDrive/federated-learning/' # make sure this is pointing to a correct directory in the Google Drive"
      ],
      "execution_count": 6,
      "outputs": []
    },
    {
      "cell_type": "code",
      "metadata": {
        "id": "Pi6hAgW5y-6S"
      },
      "source": [
        "dir=''"
      ],
      "execution_count": 7,
      "outputs": []
    },
    {
      "cell_type": "markdown",
      "metadata": {
        "id": "9W6ypnAtF3w5"
      },
      "source": [
        "## Import Modules"
      ]
    },
    {
      "cell_type": "code",
      "metadata": {
        "id": "bcW6lDKSczIM"
      },
      "source": [
        "import logging\r\n",
        "import math\r\n",
        "import os\r\n",
        "import pickle\r\n",
        "import random\r\n",
        "import re\r\n",
        "import time\r\n",
        "import matplotlib.pyplot as plt\r\n",
        "import numpy as np\r\n",
        "import tensorflow as tf\r\n",
        "from datetime import timedelta\r\n",
        "from keras import backend as K\r\n",
        "from sklearn.metrics import accuracy_score\r\n",
        "from sklearn.preprocessing import LabelBinarizer\r\n",
        "from tensorflow import keras\r\n",
        "from tensorflow.keras.models import Sequential\r\n",
        "from tensorflow.keras.layers import Activation\r\n",
        "from tensorflow.keras.layers import Conv2D\r\n",
        "from tensorflow.keras.layers import Dense\r\n",
        "from tensorflow.keras.layers import MaxPooling2D\r\n",
        "from tensorflow.keras.layers import Flatten\r\n",
        "from tensorflow.keras.optimizers import SGD\r\n",
        "from tqdm import tqdm\r\n",
        "tf.get_logger().setLevel(logging.ERROR)"
      ],
      "execution_count": 8,
      "outputs": []
    },
    {
      "cell_type": "code",
      "metadata": {
        "colab": {
          "base_uri": "https://localhost:8080/",
          "height": 36
        },
        "id": "zbB13kbMcMQa",
        "outputId": "b6deec26-29fd-44bb-abde-ea38bc644a75"
      },
      "source": [
        "tf.test.gpu_device_name()"
      ],
      "execution_count": 9,
      "outputs": [
        {
          "output_type": "execute_result",
          "data": {
            "application/vnd.google.colaboratory.intrinsic+json": {
              "type": "string"
            },
            "text/plain": [
              "''"
            ]
          },
          "metadata": {
            "tags": []
          },
          "execution_count": 9
        }
      ]
    },
    {
      "cell_type": "code",
      "metadata": {
        "id": "9dh8oRZOzKwX"
      },
      "source": [
        "client_ids = [i for i in range(N_CLIENTS)]\r\n",
        "\r\n",
        "loss='categorical_crossentropy'\r\n",
        "metrics = ['accuracy']\r\n",
        "cce = tf.keras.losses.CategoricalCrossentropy()"
      ],
      "execution_count": 10,
      "outputs": []
    },
    {
      "cell_type": "markdown",
      "metadata": {
        "id": "KK4T5uSOGAes"
      },
      "source": [
        "## Random seed"
      ]
    },
    {
      "cell_type": "code",
      "metadata": {
        "id": "EQxx_pqvXjlp"
      },
      "source": [
        "seed_value= 0\r\n",
        "os.environ['PYTHONHASHSEED']=str(seed_value)\r\n",
        "random.seed(seed_value)\r\n",
        "np.random.seed(seed_value)\r\n",
        "tf.random.set_seed(seed_value)\r\n",
        "session_conf = tf.compat.v1.ConfigProto(intra_op_parallelism_threads=1, inter_op_parallelism_threads=1)\r\n",
        "sess = tf.compat.v1.Session(graph=tf.compat.v1.get_default_graph(), config=session_conf)\r\n",
        "tf.compat.v1.keras.backend.set_session(sess)"
      ],
      "execution_count": 8,
      "outputs": []
    },
    {
      "cell_type": "markdown",
      "metadata": {
        "id": "rpADFZUKGEoI"
      },
      "source": [
        "## Load MNIST Data"
      ]
    },
    {
      "cell_type": "code",
      "metadata": {
        "id": "qt79EFaPT4A0",
        "colab": {
          "base_uri": "https://localhost:8080/"
        },
        "outputId": "69d30897-e412-44e7-f7a8-7a4bc8424df7"
      },
      "source": [
        "mnist = tf.keras.datasets.mnist\r\n",
        "(X_train, y_train), (X_test, y_test) = mnist.load_data()\r\n"
      ],
      "execution_count": 9,
      "outputs": [
        {
          "output_type": "stream",
          "text": [
            "Downloading data from https://storage.googleapis.com/tensorflow/tf-keras-datasets/mnist.npz\n",
            "11493376/11490434 [==============================] - 0s 0us/step\n"
          ],
          "name": "stdout"
        }
      ]
    },
    {
      "cell_type": "code",
      "metadata": {
        "colab": {
          "base_uri": "https://localhost:8080/",
          "height": 283
        },
        "id": "dkkyLX7VUDL-",
        "outputId": "8140a207-200c-4f2a-9971-b4a90dce78f7"
      },
      "source": [
        "plt.imshow(X_train[0])"
      ],
      "execution_count": 10,
      "outputs": [
        {
          "output_type": "execute_result",
          "data": {
            "text/plain": [
              "<matplotlib.image.AxesImage at 0x7f67f00f43c8>"
            ]
          },
          "metadata": {
            "tags": []
          },
          "execution_count": 10
        },
        {
          "output_type": "display_data",
          "data": {
            "image/png": "[encoded data removed]",
            "text/plain": [
              "<Figure size 432x288 with 1 Axes>"
            ]
          },
          "metadata": {
            "tags": [],
            "needs_background": "light"
          }
        }
      ]
    },
    {
      "cell_type": "markdown",
      "metadata": {
        "id": "cPYDXqAoG2gY"
      },
      "source": [
        "## Data Preparation"
      ]
    },
    {
      "cell_type": "markdown",
      "metadata": {
        "id": "rKb-m0M7HWum"
      },
      "source": [
        "### IID or NON-IID"
      ]
    },
    {
      "cell_type": "code",
      "metadata": {
        "id": "4eqvwlqZekdJ"
      },
      "source": [
        "def iid_partition(y_train):\r\n",
        "  \"\"\"\r\n",
        "    the data is shuffled, and then partitioned into 100 clients each receiving 600 examples\r\n",
        "  \"\"\"\r\n",
        "  n_per_client = int(len(y_train)/N_CLIENTS)\r\n",
        "  indexes_per_client = {}\r\n",
        "  indexes = np.arange(0, len(y_train))\r\n",
        "  random.shuffle(indexes)\r\n",
        "  for i in range(N_CLIENTS):\r\n",
        "    start_idx = i*n_per_client\r\n",
        "    indexes_per_client[i] = indexes[start_idx:start_idx+n_per_client]\r\n",
        "  return indexes_per_client\r\n"
      ],
      "execution_count": 11,
      "outputs": []
    },
    {
      "cell_type": "code",
      "metadata": {
        "id": "MlZYOopmUG2q"
      },
      "source": [
        "def noniid_partition(y_train):\r\n",
        "  \"\"\"\r\n",
        "    sort the data by digit label, divide it into 200 shards of size 300, and assign each of 100 clients 2 shards.\r\n",
        "  \"\"\"\r\n",
        "  n_shards = 200\r\n",
        "  n_per_shard = 300\r\n",
        "\r\n",
        "  indexes_per_client = {}\r\n",
        "  indexes = y_train.argsort()\r\n",
        "\r\n",
        "  indexes_shard = np.arange(0, n_shards)\r\n",
        "  random.shuffle(indexes_shard)\r\n",
        "\r\n",
        "  for i in range(N_CLIENTS):\r\n",
        "    start_idx_shard_1 = indexes_shard[i*2]*n_per_shard\r\n",
        "    start_idx_shard_2 = indexes_shard[i*2+1]*n_per_shard\r\n",
        "    indexes_per_client[i] = np.concatenate((indexes[start_idx_shard_1:start_idx_shard_1+n_per_shard],\r\n",
        "                                            indexes[start_idx_shard_2:start_idx_shard_2+n_per_shard]))\r\n",
        "    \r\n",
        "  return indexes_per_client\r\n",
        "\r\n",
        "\r\n",
        "  "
      ],
      "execution_count": 12,
      "outputs": []
    },
    {
      "cell_type": "code",
      "metadata": {
        "id": "wx6Ol-YZs4V3"
      },
      "source": [
        "indexes_per_client = None\r\n",
        "if DATA=='iid':\r\n",
        "  indexes_per_client = iid_partition(y_train)\r\n",
        "elif DATA=='noniid':\r\n",
        "  indexes_per_client = noniid_partition(y_train)\r\n",
        "else:\r\n",
        "  print('DATA {} is not defined'.format(DATA))"
      ],
      "execution_count": 13,
      "outputs": []
    },
    {
      "cell_type": "markdown",
      "metadata": {
        "id": "-UzMz_pUHaB4"
      },
      "source": [
        "### Normalize, Expand Dims, and Transform Labels"
      ]
    },
    {
      "cell_type": "code",
      "metadata": {
        "colab": {
          "base_uri": "https://localhost:8080/"
        },
        "id": "VFnSrMw_VkrQ",
        "outputId": "1f1bd51d-0f80-4ec9-8bd8-82b6c8caf688"
      },
      "source": [
        "X_train = X_train.astype(\"float32\")/255\r\n",
        "X_test = X_test.astype(\"float32\")/255\r\n",
        "X_train = np.expand_dims(X_train, -1)\r\n",
        "X_test = np.expand_dims(X_test, -1)\r\n",
        "y_train = keras.utils.to_categorical(y_train, 10)\r\n",
        "y_test = keras.utils.to_categorical(y_test, 10)\r\n",
        "\r\n",
        "print(\"x_train shape:\", X_train.shape)\r\n",
        "print(X_train.shape[0], \"train samples\")\r\n",
        "print(X_test.shape[0], \"test samples\")"
      ],
      "execution_count": 14,
      "outputs": [
        {
          "output_type": "stream",
          "text": [
            "x_train shape: (60000, 28, 28, 1)\n",
            "60000 train samples\n",
            "10000 test samples\n"
          ],
          "name": "stdout"
        }
      ]
    },
    {
      "cell_type": "markdown",
      "metadata": {
        "id": "gsIzVNlUHvKZ"
      },
      "source": [
        "### Create Batched Dataset"
      ]
    },
    {
      "cell_type": "code",
      "metadata": {
        "id": "uYPkQcACV-Um"
      },
      "source": [
        "\r\n",
        "def create_batch(indexes_client, X_train, y_train, B):\r\n",
        "    x = []\r\n",
        "    y = []    \r\n",
        "    for i in indexes_client:\r\n",
        "      x.append(X_train[i])\r\n",
        "      y.append(y_train[i])\r\n",
        "\r\n",
        "    dataset = tf.data.Dataset.from_tensor_slices((list(x), list(y)))\r\n",
        "    return dataset.shuffle(len(y)).batch(len(y_train) if B=='all' else B)"
      ],
      "execution_count": 15,
      "outputs": []
    },
    {
      "cell_type": "code",
      "metadata": {
        "colab": {
          "base_uri": "https://localhost:8080/"
        },
        "id": "Agb7sfzCPqBR",
        "outputId": "9c90ce9b-ff82-4cc3-c42b-62b0e49d0274"
      },
      "source": [
        "client_dataset_batched = {}\r\n",
        "for i, indexes in tqdm(indexes_per_client.items()):\r\n",
        "  client_dataset_batched[i] = create_batch(indexes, X_train, y_train, B)\r\n",
        "\r\n",
        "train_batched = tf.data.Dataset.from_tensor_slices((X_train, y_train)).batch(len(y_train)) # for testing on train set\r\n",
        "test_batched = tf.data.Dataset.from_tensor_slices((X_test, y_test)).batch(len(y_test))"
      ],
      "execution_count": 16,
      "outputs": [
        {
          "output_type": "stream",
          "text": [
            "100%|██████████| 100/100 [00:50<00:00,  1.97it/s]\n"
          ],
          "name": "stderr"
        }
      ]
    },
    {
      "cell_type": "markdown",
      "metadata": {
        "id": "oooOjBDSDfwf"
      },
      "source": [
        "## MLP (2NN)"
      ]
    },
    {
      "cell_type": "markdown",
      "metadata": {
        "id": "3VqctQDCDn1h"
      },
      "source": [
        "A simple multilayer-perceptron with 2-hidden layers with 200 units each using ReLu activations (199,210 total parameters), which is referred as the MNIST 2NN"
      ]
    },
    {
      "cell_type": "code",
      "metadata": {
        "id": "zZH6M0yCQdbR"
      },
      "source": [
        "class MLP:\r\n",
        "    @staticmethod\r\n",
        "    def build(input_shape):\r\n",
        "        model = Sequential()\r\n",
        "        model.add(Flatten(input_shape=input_shape))\r\n",
        "        model.add(Dense(200, activation=\"relu\"))\r\n",
        "        model.add(Dense(200,  activation=\"relu\"))\r\n",
        "        model.add(Dense(10,  activation=\"softmax\"))\r\n",
        "        return model"
      ],
      "execution_count": 17,
      "outputs": []
    },
    {
      "cell_type": "markdown",
      "metadata": {
        "id": "_1B-MhkhDjXv"
      },
      "source": [
        "## CNN"
      ]
    },
    {
      "cell_type": "markdown",
      "metadata": {
        "id": "x32LdcLyDz0C"
      },
      "source": [
        "A CNN with two 5x5 convolution layers (the first with 32 channels, the second with 64, each followed with 2x2 max pooling), a fully connected layer with 512 units and ReLu activation, and a final softmax output layer (1,663,370 total parameters)"
      ]
    },
    {
      "cell_type": "code",
      "metadata": {
        "id": "DagxrK-kd3Bf"
      },
      "source": [
        "class CNN:\r\n",
        "    @staticmethod\r\n",
        "    def build(input_shape):\r\n",
        "        model = Sequential()\r\n",
        "        model.add(Conv2D(filters=32, kernel_size=(5,5), padding='same', activation='relu', input_shape=input_shape))\r\n",
        "        model.add(MaxPooling2D(pool_size=(2, 2)))\r\n",
        "        model.add(Conv2D(filters=64, padding='same', kernel_size=(5,5), activation='relu'))\r\n",
        "        model.add(MaxPooling2D(pool_size=(2, 2)))\r\n",
        "        model.add(Flatten())\r\n",
        "        model.add(Dense(512, activation='relu'))\r\n",
        "        model.add(Dense(10, activation='softmax'))\r\n",
        "        return model"
      ],
      "execution_count": 18,
      "outputs": []
    },
    {
      "cell_type": "markdown",
      "metadata": {
        "id": "a1U-_Tq2EBXX"
      },
      "source": [
        "## Initialize Model"
      ]
    },
    {
      "cell_type": "code",
      "metadata": {
        "id": "tngyDPgD96a9",
        "colab": {
          "base_uri": "https://localhost:8080/"
        },
        "outputId": "64a75076-8ea8-4276-ff3e-750cfdf98ffc"
      },
      "source": [
        "#initialize global model\r\n",
        "model = None\r\n",
        "if MODEL=='mlp':\r\n",
        "  model = MLP()\r\n",
        "elif MODEL=='cnn':\r\n",
        "  model = CNN()\r\n",
        "else:\r\n",
        "  print('model {} is not defined'.format(MODEL))\r\n",
        "  \r\n",
        "global_model = model.build((28,28,1))\r\n",
        "initial_weights = global_model.get_weights()\r\n",
        "\r\n",
        "# client_models = [model.build((28,28,1)) for _ in range(K)]\r\n",
        "\r\n",
        "# for i in range(len(client_models)):\r\n",
        "#   client_models[i].compile(loss=loss, \r\n",
        "#                       optimizer=optimizer, \r\n",
        "#                       metrics=metrics)\r\n",
        "#   client_models[i].set_weights(global_model.get_weights())\r\n",
        "\r\n",
        "global_model.summary()"
      ],
      "execution_count": 19,
      "outputs": [
        {
          "output_type": "stream",
          "text": [
            "Model: \"sequential\"\n",
            "_________________________________________________________________\n",
            "Layer (type)                 Output Shape              Param #   \n",
            "=================================================================\n",
            "conv2d (Conv2D)              (None, 28, 28, 32)        832       \n",
            "_________________________________________________________________\n",
            "max_pooling2d (MaxPooling2D) (None, 14, 14, 32)        0         \n",
            "_________________________________________________________________\n",
            "conv2d_1 (Conv2D)            (None, 14, 14, 64)        51264     \n",
            "_________________________________________________________________\n",
            "max_pooling2d_1 (MaxPooling2 (None, 7, 7, 64)          0         \n",
            "_________________________________________________________________\n",
            "flatten (Flatten)            (None, 3136)              0         \n",
            "_________________________________________________________________\n",
            "dense (Dense)                (None, 512)               1606144   \n",
            "_________________________________________________________________\n",
            "dense_1 (Dense)              (None, 10)                5130      \n",
            "=================================================================\n",
            "Total params: 1,663,370\n",
            "Trainable params: 1,663,370\n",
            "Non-trainable params: 0\n",
            "_________________________________________________________________\n"
          ],
          "name": "stdout"
        }
      ]
    },
    {
      "cell_type": "markdown",
      "metadata": {
        "id": "7aOBX1GRD9va"
      },
      "source": [
        "## Training"
      ]
    },
    {
      "cell_type": "code",
      "metadata": {
        "id": "nCp1_hXGg0Va",
        "colab": {
          "base_uri": "https://localhost:8080/"
        },
        "outputId": "f3838f20-a4a3-4c89-e6b4-def692afb6eb"
      },
      "source": [
        "result_per_lr = {}\r\n",
        "start = time.time()\r\n",
        "for lr in lrs:\r\n",
        "  train_losses = []\r\n",
        "  train_accs = []\r\n",
        "  test_losses = []\r\n",
        "  test_accs = []\r\n",
        "  optimizer = SGD(lr=lr) \r\n",
        "  global_model.set_weights(initial_weights)\r\n",
        "  print('\\nlearning rate: {}'.format(lr))\r\n",
        "  for r in range(c_rounds):\r\n",
        "    train_loss = 0\r\n",
        "    train_acc = 0\r\n",
        "    test_loss = 0\r\n",
        "    test_acc = 0\r\n",
        "\r\n",
        "    global_weights = global_model.get_weights()\r\n",
        "\r\n",
        "    #sampling client\r\n",
        "    m = max(int(C*N_CLIENTS), 1)\r\n",
        "    selected_clients = random.sample(client_ids, m)\r\n",
        "\r\n",
        "    client_models = {} # to prevent crashed due to not enough RAM \r\n",
        "\r\n",
        "    # client update\r\n",
        "    for i in selected_clients:\r\n",
        "      client_models[i] = model.build((28,28,1))\r\n",
        "      client_models[i].compile(loss=loss, \r\n",
        "                        optimizer=optimizer, \r\n",
        "                        metrics=metrics)\r\n",
        "      \r\n",
        "      client_models[i].set_weights(global_weights)\r\n",
        "      client_models[i].fit(client_dataset_batched[i], epochs=E, verbose=0)\r\n",
        "\r\n",
        "    # averaging\r\n",
        "    avg_weights = list()\r\n",
        "    for j in range(len(global_weights)):\r\n",
        "        weights = [client_models[k].get_weights()[j] for k in selected_clients]\r\n",
        "        layer_mean = tf.math.reduce_mean(weights, axis=0)\r\n",
        "        avg_weights.append(layer_mean)\r\n",
        "    global_model.set_weights(avg_weights)\r\n",
        "\r\n",
        "    # test global model on full training set\r\n",
        "    for (X,y) in train_batched:\r\n",
        "      preds = global_model.predict(X)\r\n",
        "      train_loss = cce(y, preds)\r\n",
        "      train_acc = accuracy_score(tf.argmax(preds, axis=1), tf.argmax(y, axis=1))\r\n",
        "      train_losses.append(train_loss.numpy())\r\n",
        "      train_accs.append(train_acc)\r\n",
        "\r\n",
        "    # test global model on testing set\r\n",
        "    for(X, y) in test_batched:\r\n",
        "      preds = global_model.predict(X)\r\n",
        "      test_loss = cce(y, preds)\r\n",
        "      test_acc = accuracy_score(tf.argmax(preds, axis=1), tf.argmax(y, axis=1))\r\n",
        "      test_losses.append(test_loss.numpy())\r\n",
        "      test_accs.append(test_acc)\r\n",
        "\r\n",
        "    elapsed = (time.time() - start)\r\n",
        "    \r\n",
        "    print('comm_round: {}/{} | test_acc: {:.3%} | test_loss: {} | train_acc: {:.3%} | train_loss: {} | elapsed: {}'.format(r+1, c_rounds, test_acc, test_loss, train_acc, train_loss, timedelta(seconds=elapsed)))\r\n",
        "\r\n",
        "  result_per_lr[lr] = {\r\n",
        "                        'train_accs' : train_accs,\r\n",
        "                        'test_accs' : test_accs,\r\n",
        "                        'train_losses' : train_losses,\r\n",
        "                        'test_losses' : test_losses\r\n",
        "                      }\r\n",
        "  with open(dir+'result_per_lr_{}_{}_{}_{}_{}_{}.pickle'.format(B,C,E,MODEL,DATA, lr), 'wb') as handle:\r\n",
        "    pickle.dump(result_per_lr, handle, protocol=pickle.HIGHEST_PROTOCOL)\r\n",
        "\r\n"
      ],
      "execution_count": 20,
      "outputs": [
        {
          "output_type": "stream",
          "text": [
            "\n",
            "learning rate: 0.1\n",
            "comm_round: 1/200 | test_acc: 22.960% | test_loss: 2.1319215297698975 | train_acc: 22.553% | train_loss: 2.136284351348877 | elapsed: 0:00:16.107246\n",
            "comm_round: 2/200 | test_acc: 30.940% | test_loss: 2.168268918991089 | train_acc: 30.800% | train_loss: 2.1657662391662598 | elapsed: 0:00:25.056726\n",
            "comm_round: 3/200 | test_acc: 60.350% | test_loss: 1.4813097715377808 | train_acc: 60.217% | train_loss: 1.4934920072555542 | elapsed: 0:00:34.081560\n",
            "comm_round: 4/200 | test_acc: 62.350% | test_loss: 1.2563430070877075 | train_acc: 62.220% | train_loss: 1.2630257606506348 | elapsed: 0:00:43.404940\n",
            "comm_round: 5/200 | test_acc: 58.170% | test_loss: 1.0704134702682495 | train_acc: 57.800% | train_loss: 1.0795096158981323 | elapsed: 0:00:52.534228\n",
            "comm_round: 6/200 | test_acc: 69.870% | test_loss: 0.908623218536377 | train_acc: 69.502% | train_loss: 0.9209845066070557 | elapsed: 0:01:01.987773\n",
            "comm_round: 7/200 | test_acc: 79.510% | test_loss: 0.7426711320877075 | train_acc: 78.670% | train_loss: 0.7600830793380737 | elapsed: 0:01:11.279725\n",
            "comm_round: 8/200 | test_acc: 78.850% | test_loss: 0.5964287519454956 | train_acc: 79.053% | train_loss: 0.6068277359008789 | elapsed: 0:01:20.495227\n",
            "comm_round: 9/200 | test_acc: 86.820% | test_loss: 0.4513017535209656 | train_acc: 86.657% | train_loss: 0.46921664476394653 | elapsed: 0:01:29.900647\n",
            "comm_round: 10/200 | test_acc: 89.530% | test_loss: 0.3806370496749878 | train_acc: 88.797% | train_loss: 0.39939621090888977 | elapsed: 0:01:39.386785\n",
            "comm_round: 11/200 | test_acc: 88.980% | test_loss: 0.44049912691116333 | train_acc: 88.637% | train_loss: 0.45773011445999146 | elapsed: 0:01:48.363495\n",
            "comm_round: 12/200 | test_acc: 79.220% | test_loss: 0.5555502772331238 | train_acc: 79.057% | train_loss: 0.576386570930481 | elapsed: 0:01:57.690608\n",
            "comm_round: 13/200 | test_acc: 90.420% | test_loss: 0.2997019588947296 | train_acc: 89.993% | train_loss: 0.3159087896347046 | elapsed: 0:02:06.822726\n",
            "comm_round: 14/200 | test_acc: 90.130% | test_loss: 0.3053339719772339 | train_acc: 89.837% | train_loss: 0.31662479043006897 | elapsed: 0:02:15.709848\n",
            "comm_round: 15/200 | test_acc: 95.060% | test_loss: 0.1977621614933014 | train_acc: 94.387% | train_loss: 0.21290002763271332 | elapsed: 0:02:24.881748\n",
            "comm_round: 16/200 | test_acc: 94.730% | test_loss: 0.19751057028770447 | train_acc: 94.028% | train_loss: 0.2160111665725708 | elapsed: 0:02:34.058477\n",
            "comm_round: 17/200 | test_acc: 95.370% | test_loss: 0.1760590523481369 | train_acc: 94.728% | train_loss: 0.19316139817237854 | elapsed: 0:02:42.950042\n",
            "comm_round: 18/200 | test_acc: 94.340% | test_loss: 0.2010974884033203 | train_acc: 93.943% | train_loss: 0.2142525464296341 | elapsed: 0:02:52.186246\n",
            "comm_round: 19/200 | test_acc: 92.660% | test_loss: 0.2480897456407547 | train_acc: 92.352% | train_loss: 0.26607948541641235 | elapsed: 0:03:01.417797\n",
            "comm_round: 20/200 | test_acc: 92.400% | test_loss: 0.2262677252292633 | train_acc: 92.170% | train_loss: 0.23990991711616516 | elapsed: 0:03:10.329245\n",
            "comm_round: 21/200 | test_acc: 94.450% | test_loss: 0.18691347539424896 | train_acc: 94.292% | train_loss: 0.1972385197877884 | elapsed: 0:03:19.476520\n",
            "comm_round: 22/200 | test_acc: 95.010% | test_loss: 0.15530061721801758 | train_acc: 94.615% | train_loss: 0.17166616022586823 | elapsed: 0:03:28.544512\n",
            "comm_round: 23/200 | test_acc: 94.950% | test_loss: 0.1585003286600113 | train_acc: 94.703% | train_loss: 0.1711857169866562 | elapsed: 0:03:37.461461\n",
            "comm_round: 24/200 | test_acc: 96.060% | test_loss: 0.13195224106311798 | train_acc: 95.892% | train_loss: 0.14296993613243103 | elapsed: 0:03:46.597234\n",
            "comm_round: 25/200 | test_acc: 96.590% | test_loss: 0.12108158320188522 | train_acc: 96.403% | train_loss: 0.1293550729751587 | elapsed: 0:03:55.890977\n",
            "comm_round: 26/200 | test_acc: 96.440% | test_loss: 0.12234338372945786 | train_acc: 96.130% | train_loss: 0.1346411556005478 | elapsed: 0:04:04.709004\n",
            "comm_round: 27/200 | test_acc: 95.210% | test_loss: 0.196838840842247 | train_acc: 94.862% | train_loss: 0.20792660117149353 | elapsed: 0:04:14.029329\n",
            "comm_round: 28/200 | test_acc: 96.170% | test_loss: 0.13570179045200348 | train_acc: 96.143% | train_loss: 0.14081266522407532 | elapsed: 0:04:23.154232\n",
            "comm_round: 29/200 | test_acc: 94.820% | test_loss: 0.15228159725666046 | train_acc: 94.762% | train_loss: 0.1609562337398529 | elapsed: 0:04:32.025292\n",
            "comm_round: 30/200 | test_acc: 96.350% | test_loss: 0.11855118721723557 | train_acc: 96.288% | train_loss: 0.1252594292163849 | elapsed: 0:04:41.194813\n",
            "comm_round: 31/200 | test_acc: 96.980% | test_loss: 0.10304927080869675 | train_acc: 96.615% | train_loss: 0.11142920702695847 | elapsed: 0:04:50.245697\n",
            "comm_round: 32/200 | test_acc: 97.270% | test_loss: 0.09337154030799866 | train_acc: 96.898% | train_loss: 0.10236217081546783 | elapsed: 0:04:59.051665\n",
            "comm_round: 33/200 | test_acc: 96.940% | test_loss: 0.09289653599262238 | train_acc: 96.813% | train_loss: 0.1033516600728035 | elapsed: 0:05:08.191830\n",
            "comm_round: 34/200 | test_acc: 94.490% | test_loss: 0.15072697401046753 | train_acc: 94.477% | train_loss: 0.15549840033054352 | elapsed: 0:05:17.481250\n",
            "comm_round: 35/200 | test_acc: 97.050% | test_loss: 0.10592158138751984 | train_acc: 96.908% | train_loss: 0.11304230988025665 | elapsed: 0:05:26.414779\n",
            "comm_round: 36/200 | test_acc: 95.990% | test_loss: 0.12628881633281708 | train_acc: 96.083% | train_loss: 0.13127915561199188 | elapsed: 0:05:35.602005\n",
            "comm_round: 37/200 | test_acc: 97.300% | test_loss: 0.08987489342689514 | train_acc: 97.153% | train_loss: 0.09699112176895142 | elapsed: 0:05:44.694172\n",
            "comm_round: 38/200 | test_acc: 97.240% | test_loss: 0.0961364135146141 | train_acc: 96.975% | train_loss: 0.10422177612781525 | elapsed: 0:05:53.604777\n",
            "comm_round: 39/200 | test_acc: 97.280% | test_loss: 0.09175503253936768 | train_acc: 97.087% | train_loss: 0.09839856624603271 | elapsed: 0:06:02.707367\n",
            "comm_round: 40/200 | test_acc: 97.720% | test_loss: 0.0745827853679657 | train_acc: 97.472% | train_loss: 0.08375737816095352 | elapsed: 0:06:11.781581\n",
            "comm_round: 41/200 | test_acc: 97.660% | test_loss: 0.07601036131381989 | train_acc: 97.383% | train_loss: 0.08457111567258835 | elapsed: 0:06:20.627583\n",
            "comm_round: 42/200 | test_acc: 97.600% | test_loss: 0.08243488520383835 | train_acc: 97.488% | train_loss: 0.08854597061872482 | elapsed: 0:06:29.716470\n",
            "comm_round: 43/200 | test_acc: 97.380% | test_loss: 0.09039977937936783 | train_acc: 97.052% | train_loss: 0.09981803596019745 | elapsed: 0:06:38.866638\n",
            "comm_round: 44/200 | test_acc: 97.490% | test_loss: 0.08057871460914612 | train_acc: 97.322% | train_loss: 0.08921913057565689 | elapsed: 0:06:47.669652\n",
            "comm_round: 45/200 | test_acc: 97.290% | test_loss: 0.07842591404914856 | train_acc: 97.280% | train_loss: 0.08396238833665848 | elapsed: 0:06:56.895859\n",
            "comm_round: 46/200 | test_acc: 97.780% | test_loss: 0.07433183491230011 | train_acc: 97.628% | train_loss: 0.08167009800672531 | elapsed: 0:07:05.976997\n",
            "comm_round: 47/200 | test_acc: 97.690% | test_loss: 0.07894056290388107 | train_acc: 97.618% | train_loss: 0.08504893630743027 | elapsed: 0:07:14.828294\n",
            "comm_round: 48/200 | test_acc: 97.530% | test_loss: 0.08210144191980362 | train_acc: 97.375% | train_loss: 0.09197971969842911 | elapsed: 0:07:23.889831\n",
            "comm_round: 49/200 | test_acc: 97.770% | test_loss: 0.07325725257396698 | train_acc: 97.487% | train_loss: 0.08354496955871582 | elapsed: 0:07:32.949287\n",
            "comm_round: 50/200 | test_acc: 97.610% | test_loss: 0.07733891159296036 | train_acc: 97.490% | train_loss: 0.08096980303525925 | elapsed: 0:07:41.802632\n",
            "comm_round: 51/200 | test_acc: 98.000% | test_loss: 0.06996041536331177 | train_acc: 97.852% | train_loss: 0.0752585157752037 | elapsed: 0:07:50.887372\n",
            "comm_round: 52/200 | test_acc: 97.770% | test_loss: 0.07199560105800629 | train_acc: 97.600% | train_loss: 0.07823877781629562 | elapsed: 0:08:00.011320\n",
            "comm_round: 53/200 | test_acc: 97.420% | test_loss: 0.07826236635446548 | train_acc: 97.368% | train_loss: 0.0870128720998764 | elapsed: 0:08:08.835795\n",
            "comm_round: 54/200 | test_acc: 97.790% | test_loss: 0.07220616936683655 | train_acc: 97.612% | train_loss: 0.08059389144182205 | elapsed: 0:08:18.070633\n",
            "comm_round: 55/200 | test_acc: 98.090% | test_loss: 0.05834430083632469 | train_acc: 97.917% | train_loss: 0.0674961656332016 | elapsed: 0:08:27.135686\n",
            "comm_round: 56/200 | test_acc: 97.920% | test_loss: 0.0643642470240593 | train_acc: 97.932% | train_loss: 0.06834346055984497 | elapsed: 0:08:35.921657\n",
            "comm_round: 57/200 | test_acc: 97.720% | test_loss: 0.07047896087169647 | train_acc: 97.707% | train_loss: 0.0764266699552536 | elapsed: 0:08:44.947623\n",
            "comm_round: 58/200 | test_acc: 97.550% | test_loss: 0.07458890229463577 | train_acc: 97.463% | train_loss: 0.0823940560221672 | elapsed: 0:08:53.941739\n",
            "comm_round: 59/200 | test_acc: 98.340% | test_loss: 0.053839631378650665 | train_acc: 98.240% | train_loss: 0.05965485796332359 | elapsed: 0:09:02.846547\n",
            "comm_round: 60/200 | test_acc: 98.040% | test_loss: 0.06568390876054764 | train_acc: 97.617% | train_loss: 0.07414089888334274 | elapsed: 0:09:11.905802\n",
            "comm_round: 61/200 | test_acc: 97.900% | test_loss: 0.0650685727596283 | train_acc: 97.605% | train_loss: 0.07381589710712433 | elapsed: 0:09:20.924414\n",
            "comm_round: 62/200 | test_acc: 98.380% | test_loss: 0.05553393065929413 | train_acc: 98.105% | train_loss: 0.060571521520614624 | elapsed: 0:09:29.657404\n",
            "comm_round: 63/200 | test_acc: 98.570% | test_loss: 0.04934704676270485 | train_acc: 98.358% | train_loss: 0.05414630100131035 | elapsed: 0:09:38.820720\n",
            "comm_round: 64/200 | test_acc: 97.760% | test_loss: 0.06903528422117233 | train_acc: 97.468% | train_loss: 0.07633204758167267 | elapsed: 0:09:47.824330\n",
            "comm_round: 65/200 | test_acc: 97.300% | test_loss: 0.08012931793928146 | train_acc: 96.985% | train_loss: 0.08632523566484451 | elapsed: 0:09:56.706239\n",
            "comm_round: 66/200 | test_acc: 98.110% | test_loss: 0.057767029851675034 | train_acc: 98.082% | train_loss: 0.061154816299676895 | elapsed: 0:10:05.776954\n",
            "comm_round: 67/200 | test_acc: 98.300% | test_loss: 0.05267529934644699 | train_acc: 98.240% | train_loss: 0.05565132200717926 | elapsed: 0:10:14.828419\n",
            "comm_round: 68/200 | test_acc: 97.650% | test_loss: 0.07168702036142349 | train_acc: 97.632% | train_loss: 0.07339707762002945 | elapsed: 0:10:23.724220\n",
            "comm_round: 69/200 | test_acc: 98.060% | test_loss: 0.06369586288928986 | train_acc: 97.870% | train_loss: 0.06667736917734146 | elapsed: 0:10:32.958535\n",
            "comm_round: 70/200 | test_acc: 98.240% | test_loss: 0.05183146893978119 | train_acc: 98.268% | train_loss: 0.054783064872026443 | elapsed: 0:10:42.002765\n",
            "comm_round: 71/200 | test_acc: 98.060% | test_loss: 0.060099389404058456 | train_acc: 97.847% | train_loss: 0.0651201605796814 | elapsed: 0:10:50.736859\n",
            "comm_round: 72/200 | test_acc: 98.220% | test_loss: 0.056056104600429535 | train_acc: 98.008% | train_loss: 0.06362015008926392 | elapsed: 0:10:59.883592\n",
            "comm_round: 73/200 | test_acc: 98.250% | test_loss: 0.05541626736521721 | train_acc: 98.045% | train_loss: 0.06331450492143631 | elapsed: 0:11:08.824666\n",
            "comm_round: 74/200 | test_acc: 98.020% | test_loss: 0.06109568476676941 | train_acc: 97.848% | train_loss: 0.06755241006612778 | elapsed: 0:11:17.692914\n",
            "comm_round: 75/200 | test_acc: 97.820% | test_loss: 0.06622776389122009 | train_acc: 97.765% | train_loss: 0.07022533565759659 | elapsed: 0:11:26.768008\n",
            "comm_round: 76/200 | test_acc: 97.670% | test_loss: 0.07102899253368378 | train_acc: 97.465% | train_loss: 0.07726798206567764 | elapsed: 0:11:35.789593\n",
            "comm_round: 77/200 | test_acc: 98.410% | test_loss: 0.05010782182216644 | train_acc: 98.360% | train_loss: 0.05293146148324013 | elapsed: 0:11:44.523663\n",
            "comm_round: 78/200 | test_acc: 98.190% | test_loss: 0.05320961773395538 | train_acc: 98.042% | train_loss: 0.060582924634218216 | elapsed: 0:11:53.603756\n",
            "comm_round: 79/200 | test_acc: 98.490% | test_loss: 0.04782107099890709 | train_acc: 98.288% | train_loss: 0.05310291424393654 | elapsed: 0:12:02.615804\n",
            "comm_round: 80/200 | test_acc: 98.410% | test_loss: 0.047744542360305786 | train_acc: 98.417% | train_loss: 0.048805247992277145 | elapsed: 0:12:11.374691\n",
            "comm_round: 81/200 | test_acc: 97.660% | test_loss: 0.06752147525548935 | train_acc: 97.730% | train_loss: 0.07007239758968353 | elapsed: 0:12:20.458758\n",
            "comm_round: 82/200 | test_acc: 98.520% | test_loss: 0.050829023122787476 | train_acc: 98.378% | train_loss: 0.05282950773835182 | elapsed: 0:12:29.481456\n",
            "comm_round: 83/200 | test_acc: 98.330% | test_loss: 0.053270451724529266 | train_acc: 98.352% | train_loss: 0.05591685324907303 | elapsed: 0:12:38.256717\n",
            "comm_round: 84/200 | test_acc: 97.640% | test_loss: 0.07138191908597946 | train_acc: 97.672% | train_loss: 0.0732956975698471 | elapsed: 0:12:47.239392\n",
            "comm_round: 85/200 | test_acc: 98.070% | test_loss: 0.06015699356794357 | train_acc: 98.162% | train_loss: 0.05969426408410072 | elapsed: 0:12:56.231661\n",
            "comm_round: 86/200 | test_acc: 98.380% | test_loss: 0.04978081211447716 | train_acc: 98.460% | train_loss: 0.05015324056148529 | elapsed: 0:13:04.980494\n",
            "comm_round: 87/200 | test_acc: 98.610% | test_loss: 0.04297814145684242 | train_acc: 98.682% | train_loss: 0.04327329248189926 | elapsed: 0:13:13.996369\n",
            "comm_round: 88/200 | test_acc: 98.640% | test_loss: 0.042569566518068314 | train_acc: 98.670% | train_loss: 0.04308637976646423 | elapsed: 0:13:22.945325\n",
            "comm_round: 89/200 | test_acc: 98.330% | test_loss: 0.048707008361816406 | train_acc: 98.378% | train_loss: 0.05024817958474159 | elapsed: 0:13:31.677334\n",
            "comm_round: 90/200 | test_acc: 98.590% | test_loss: 0.04708554968237877 | train_acc: 98.457% | train_loss: 0.04911234602332115 | elapsed: 0:13:40.819862\n",
            "comm_round: 91/200 | test_acc: 98.230% | test_loss: 0.05224998667836189 | train_acc: 98.410% | train_loss: 0.050484202802181244 | elapsed: 0:13:49.847330\n",
            "comm_round: 92/200 | test_acc: 98.160% | test_loss: 0.05536186695098877 | train_acc: 98.330% | train_loss: 0.05272214487195015 | elapsed: 0:13:58.639718\n",
            "comm_round: 93/200 | test_acc: 98.370% | test_loss: 0.047794897109270096 | train_acc: 98.517% | train_loss: 0.04459620639681816 | elapsed: 0:14:07.865867\n",
            "comm_round: 94/200 | test_acc: 98.280% | test_loss: 0.05044431611895561 | train_acc: 98.408% | train_loss: 0.04714493826031685 | elapsed: 0:14:16.773708\n",
            "comm_round: 95/200 | test_acc: 97.960% | test_loss: 0.06454062461853027 | train_acc: 97.980% | train_loss: 0.06250510364770889 | elapsed: 0:14:25.571904\n",
            "comm_round: 96/200 | test_acc: 98.420% | test_loss: 0.04783626273274422 | train_acc: 98.347% | train_loss: 0.051168907433748245 | elapsed: 0:14:34.668711\n",
            "comm_round: 97/200 | test_acc: 98.610% | test_loss: 0.04307043179869652 | train_acc: 98.495% | train_loss: 0.04577183723449707 | elapsed: 0:14:43.732615\n",
            "comm_round: 98/200 | test_acc: 98.490% | test_loss: 0.04764173924922943 | train_acc: 98.382% | train_loss: 0.04869458079338074 | elapsed: 0:14:52.501850\n",
            "comm_round: 99/200 | test_acc: 98.580% | test_loss: 0.043235789984464645 | train_acc: 98.513% | train_loss: 0.04438300058245659 | elapsed: 0:15:01.666126\n",
            "comm_round: 100/200 | test_acc: 98.470% | test_loss: 0.04525688290596008 | train_acc: 98.647% | train_loss: 0.042085543274879456 | elapsed: 0:15:10.706616\n",
            "comm_round: 101/200 | test_acc: 98.670% | test_loss: 0.03977181389927864 | train_acc: 98.657% | train_loss: 0.041112735867500305 | elapsed: 0:15:19.520265\n",
            "comm_round: 102/200 | test_acc: 98.700% | test_loss: 0.0402086116373539 | train_acc: 98.728% | train_loss: 0.04068776220083237 | elapsed: 0:15:28.629322\n",
            "comm_round: 103/200 | test_acc: 98.630% | test_loss: 0.042497385293245316 | train_acc: 98.612% | train_loss: 0.04276729375123978 | elapsed: 0:15:37.896367\n",
            "comm_round: 104/200 | test_acc: 98.560% | test_loss: 0.044875819236040115 | train_acc: 98.587% | train_loss: 0.04256526753306389 | elapsed: 0:15:46.807404\n",
            "comm_round: 105/200 | test_acc: 98.570% | test_loss: 0.04288226366043091 | train_acc: 98.785% | train_loss: 0.04000532254576683 | elapsed: 0:15:55.869469\n",
            "comm_round: 106/200 | test_acc: 98.660% | test_loss: 0.0415685698390007 | train_acc: 98.805% | train_loss: 0.03804987668991089 | elapsed: 0:16:04.826272\n",
            "comm_round: 107/200 | test_acc: 98.540% | test_loss: 0.042367108166217804 | train_acc: 98.722% | train_loss: 0.0394439771771431 | elapsed: 0:16:13.574481\n",
            "comm_round: 108/200 | test_acc: 98.660% | test_loss: 0.039106015115976334 | train_acc: 98.805% | train_loss: 0.03717267885804176 | elapsed: 0:16:22.612556\n",
            "comm_round: 109/200 | test_acc: 98.010% | test_loss: 0.05535968020558357 | train_acc: 98.283% | train_loss: 0.05350087955594063 | elapsed: 0:16:31.689035\n",
            "comm_round: 110/200 | test_acc: 98.450% | test_loss: 0.04603603482246399 | train_acc: 98.482% | train_loss: 0.04680367931723595 | elapsed: 0:16:40.518574\n",
            "comm_round: 111/200 | test_acc: 98.610% | test_loss: 0.04267725348472595 | train_acc: 98.630% | train_loss: 0.04170874133706093 | elapsed: 0:16:49.564861\n",
            "comm_round: 112/200 | test_acc: 98.620% | test_loss: 0.0430135577917099 | train_acc: 98.535% | train_loss: 0.04422498494386673 | elapsed: 0:16:58.529592\n",
            "comm_round: 113/200 | test_acc: 98.530% | test_loss: 0.04355279356241226 | train_acc: 98.690% | train_loss: 0.04153427854180336 | elapsed: 0:17:07.253786\n",
            "comm_round: 114/200 | test_acc: 98.540% | test_loss: 0.041702836751937866 | train_acc: 98.648% | train_loss: 0.04051395133137703 | elapsed: 0:17:16.306303\n",
            "comm_round: 115/200 | test_acc: 98.520% | test_loss: 0.041815318167209625 | train_acc: 98.838% | train_loss: 0.03579077497124672 | elapsed: 0:17:25.249776\n",
            "comm_round: 116/200 | test_acc: 98.610% | test_loss: 0.03990388661623001 | train_acc: 98.793% | train_loss: 0.037362173199653625 | elapsed: 0:17:33.978759\n",
            "comm_round: 117/200 | test_acc: 98.600% | test_loss: 0.04409166797995567 | train_acc: 98.715% | train_loss: 0.04009699821472168 | elapsed: 0:17:43.035379\n",
            "comm_round: 118/200 | test_acc: 98.340% | test_loss: 0.04932541400194168 | train_acc: 98.570% | train_loss: 0.04245127737522125 | elapsed: 0:17:52.049651\n",
            "comm_round: 119/200 | test_acc: 98.390% | test_loss: 0.047468796372413635 | train_acc: 98.463% | train_loss: 0.04594402760267258 | elapsed: 0:18:00.863374\n",
            "comm_round: 120/200 | test_acc: 98.660% | test_loss: 0.03971930593252182 | train_acc: 98.767% | train_loss: 0.03781462833285332 | elapsed: 0:18:09.882455\n",
            "comm_round: 121/200 | test_acc: 98.820% | test_loss: 0.035790495574474335 | train_acc: 98.913% | train_loss: 0.03214685991406441 | elapsed: 0:18:18.766016\n",
            "comm_round: 122/200 | test_acc: 98.380% | test_loss: 0.04998152703046799 | train_acc: 98.472% | train_loss: 0.046719834208488464 | elapsed: 0:18:27.544816\n",
            "comm_round: 123/200 | test_acc: 98.480% | test_loss: 0.07053985446691513 | train_acc: 98.410% | train_loss: 0.07234954088926315 | elapsed: 0:18:36.558257\n",
            "comm_round: 124/200 | test_acc: 98.360% | test_loss: 0.05498095229268074 | train_acc: 98.482% | train_loss: 0.05353022366762161 | elapsed: 0:18:45.534379\n",
            "comm_round: 125/200 | test_acc: 98.400% | test_loss: 0.05403529480099678 | train_acc: 98.387% | train_loss: 0.051282938569784164 | elapsed: 0:18:54.331539\n",
            "comm_round: 126/200 | test_acc: 98.500% | test_loss: 0.04865972325205803 | train_acc: 98.510% | train_loss: 0.04618888348340988 | elapsed: 0:19:03.468021\n",
            "comm_round: 127/200 | test_acc: 98.610% | test_loss: 0.044730719178915024 | train_acc: 98.570% | train_loss: 0.04506044089794159 | elapsed: 0:19:12.600921\n",
            "comm_round: 128/200 | test_acc: 98.680% | test_loss: 0.0393010713160038 | train_acc: 98.940% | train_loss: 0.034139253199100494 | elapsed: 0:19:21.418936\n",
            "comm_round: 129/200 | test_acc: 98.880% | test_loss: 0.034546103328466415 | train_acc: 98.875% | train_loss: 0.033635109663009644 | elapsed: 0:19:30.526577\n",
            "comm_round: 130/200 | test_acc: 98.910% | test_loss: 0.03443136438727379 | train_acc: 98.923% | train_loss: 0.03248637542128563 | elapsed: 0:19:39.593122\n",
            "comm_round: 131/200 | test_acc: 98.760% | test_loss: 0.03679046407341957 | train_acc: 98.977% | train_loss: 0.03193749859929085 | elapsed: 0:19:48.311761\n",
            "comm_round: 132/200 | test_acc: 98.850% | test_loss: 0.037644702941179276 | train_acc: 98.710% | train_loss: 0.03776082396507263 | elapsed: 0:19:57.372765\n",
            "comm_round: 133/200 | test_acc: 98.940% | test_loss: 0.033601075410842896 | train_acc: 98.853% | train_loss: 0.033760882914066315 | elapsed: 0:20:06.354845\n",
            "comm_round: 134/200 | test_acc: 98.730% | test_loss: 0.03616149351000786 | train_acc: 98.768% | train_loss: 0.03511224687099457 | elapsed: 0:20:15.082876\n",
            "comm_round: 135/200 | test_acc: 98.850% | test_loss: 0.03451294079422951 | train_acc: 98.757% | train_loss: 0.03659888356924057 | elapsed: 0:20:24.064204\n",
            "comm_round: 136/200 | test_acc: 98.860% | test_loss: 0.03472407907247543 | train_acc: 98.888% | train_loss: 0.03497796878218651 | elapsed: 0:20:32.998149\n",
            "comm_round: 137/200 | test_acc: 98.740% | test_loss: 0.03649308905005455 | train_acc: 98.868% | train_loss: 0.03445512801408768 | elapsed: 0:20:41.800718\n",
            "comm_round: 138/200 | test_acc: 98.830% | test_loss: 0.03376350551843643 | train_acc: 98.862% | train_loss: 0.033098701387643814 | elapsed: 0:20:51.022828\n",
            "comm_round: 139/200 | test_acc: 99.050% | test_loss: 0.030209027230739594 | train_acc: 99.105% | train_loss: 0.027374131605029106 | elapsed: 0:21:00.032381\n",
            "comm_round: 140/200 | test_acc: 98.780% | test_loss: 0.03586535528302193 | train_acc: 98.982% | train_loss: 0.030403263866901398 | elapsed: 0:21:08.738265\n",
            "comm_round: 141/200 | test_acc: 98.930% | test_loss: 0.033182114362716675 | train_acc: 98.990% | train_loss: 0.03172411397099495 | elapsed: 0:21:17.780694\n",
            "comm_round: 142/200 | test_acc: 98.880% | test_loss: 0.0354720801115036 | train_acc: 98.938% | train_loss: 0.031457338482141495 | elapsed: 0:21:26.756064\n",
            "comm_round: 143/200 | test_acc: 98.840% | test_loss: 0.03420495614409447 | train_acc: 98.815% | train_loss: 0.03414750099182129 | elapsed: 0:21:35.542299\n",
            "comm_round: 144/200 | test_acc: 98.860% | test_loss: 0.03390642628073692 | train_acc: 99.003% | train_loss: 0.030184611678123474 | elapsed: 0:21:44.667330\n",
            "comm_round: 145/200 | test_acc: 98.810% | test_loss: 0.03388986736536026 | train_acc: 99.040% | train_loss: 0.030236145481467247 | elapsed: 0:21:53.643245\n",
            "comm_round: 146/200 | test_acc: 99.120% | test_loss: 0.03022541105747223 | train_acc: 99.105% | train_loss: 0.027561301365494728 | elapsed: 0:22:02.476943\n",
            "comm_round: 147/200 | test_acc: 98.640% | test_loss: 0.03968295454978943 | train_acc: 98.837% | train_loss: 0.03445380553603172 | elapsed: 0:22:11.569356\n",
            "comm_round: 148/200 | test_acc: 98.900% | test_loss: 0.03448318690061569 | train_acc: 98.983% | train_loss: 0.02976430580019951 | elapsed: 0:22:20.615629\n",
            "comm_round: 149/200 | test_acc: 98.560% | test_loss: 0.04275265336036682 | train_acc: 98.703% | train_loss: 0.03812507167458534 | elapsed: 0:22:29.379803\n",
            "comm_round: 150/200 | test_acc: 98.800% | test_loss: 0.03602786362171173 | train_acc: 98.927% | train_loss: 0.030989427119493484 | elapsed: 0:22:38.461236\n",
            "comm_round: 151/200 | test_acc: 98.830% | test_loss: 0.033248402178287506 | train_acc: 99.070% | train_loss: 0.02759407088160515 | elapsed: 0:22:47.435482\n",
            "comm_round: 152/200 | test_acc: 98.680% | test_loss: 0.03757619112730026 | train_acc: 98.957% | train_loss: 0.03103203885257244 | elapsed: 0:22:56.233763\n",
            "comm_round: 153/200 | test_acc: 98.780% | test_loss: 0.03719033673405647 | train_acc: 98.912% | train_loss: 0.030861342325806618 | elapsed: 0:23:05.244839\n",
            "comm_round: 154/200 | test_acc: 98.970% | test_loss: 0.03131866455078125 | train_acc: 99.140% | train_loss: 0.02570701576769352 | elapsed: 0:23:14.273810\n",
            "comm_round: 155/200 | test_acc: 98.830% | test_loss: 0.03693462535738945 | train_acc: 99.112% | train_loss: 0.03173747658729553 | elapsed: 0:23:23.064623\n",
            "comm_round: 156/200 | test_acc: 98.680% | test_loss: 0.04208187386393547 | train_acc: 98.887% | train_loss: 0.034488022327423096 | elapsed: 0:23:32.167115\n",
            "comm_round: 157/200 | test_acc: 98.790% | test_loss: 0.03624487295746803 | train_acc: 98.928% | train_loss: 0.03152696415781975 | elapsed: 0:23:41.121811\n",
            "comm_round: 158/200 | test_acc: 98.850% | test_loss: 0.03627101704478264 | train_acc: 98.937% | train_loss: 0.033374909311532974 | elapsed: 0:23:49.858687\n",
            "comm_round: 159/200 | test_acc: 98.920% | test_loss: 0.03152408450841904 | train_acc: 99.162% | train_loss: 0.026038995012640953 | elapsed: 0:23:58.926876\n",
            "comm_round: 160/200 | test_acc: 98.870% | test_loss: 0.03272465243935585 | train_acc: 99.145% | train_loss: 0.02774239145219326 | elapsed: 0:24:07.896163\n",
            "comm_round: 161/200 | test_acc: 98.950% | test_loss: 0.03189563378691673 | train_acc: 99.107% | train_loss: 0.02695905789732933 | elapsed: 0:24:16.762701\n",
            "comm_round: 162/200 | test_acc: 99.050% | test_loss: 0.027764830738306046 | train_acc: 99.250% | train_loss: 0.023441676050424576 | elapsed: 0:24:25.755927\n",
            "comm_round: 163/200 | test_acc: 98.980% | test_loss: 0.03231508657336235 | train_acc: 99.032% | train_loss: 0.028989190235733986 | elapsed: 0:24:34.741586\n",
            "comm_round: 164/200 | test_acc: 98.900% | test_loss: 0.033583346754312515 | train_acc: 99.082% | train_loss: 0.028537971898913383 | elapsed: 0:24:43.585262\n",
            "comm_round: 165/200 | test_acc: 98.930% | test_loss: 0.031024068593978882 | train_acc: 99.135% | train_loss: 0.025600727647542953 | elapsed: 0:24:52.614754\n",
            "comm_round: 166/200 | test_acc: 98.950% | test_loss: 0.030649878084659576 | train_acc: 99.050% | train_loss: 0.02771536447107792 | elapsed: 0:25:01.692682\n",
            "comm_round: 167/200 | test_acc: 98.910% | test_loss: 0.033736906945705414 | train_acc: 98.997% | train_loss: 0.03054547682404518 | elapsed: 0:25:10.426796\n",
            "comm_round: 168/200 | test_acc: 99.000% | test_loss: 0.029141174629330635 | train_acc: 99.148% | train_loss: 0.02497248165309429 | elapsed: 0:25:19.439074\n",
            "comm_round: 169/200 | test_acc: 98.780% | test_loss: 0.037984080612659454 | train_acc: 98.947% | train_loss: 0.03230894356966019 | elapsed: 0:25:28.394114\n",
            "comm_round: 170/200 | test_acc: 98.700% | test_loss: 0.03865702450275421 | train_acc: 98.915% | train_loss: 0.031632326543331146 | elapsed: 0:25:37.195170\n",
            "comm_round: 171/200 | test_acc: 99.020% | test_loss: 0.03112497553229332 | train_acc: 99.145% | train_loss: 0.02504134736955166 | elapsed: 0:25:46.289864\n",
            "comm_round: 172/200 | test_acc: 98.990% | test_loss: 0.03218192234635353 | train_acc: 99.125% | train_loss: 0.02540094405412674 | elapsed: 0:25:55.552804\n",
            "comm_round: 173/200 | test_acc: 98.970% | test_loss: 0.0305145513266325 | train_acc: 99.197% | train_loss: 0.02463272213935852 | elapsed: 0:26:04.470621\n",
            "comm_round: 174/200 | test_acc: 98.950% | test_loss: 0.03220352530479431 | train_acc: 99.130% | train_loss: 0.025548920035362244 | elapsed: 0:26:13.537679\n",
            "comm_round: 175/200 | test_acc: 99.110% | test_loss: 0.027833538129925728 | train_acc: 99.308% | train_loss: 0.021406246349215508 | elapsed: 0:26:22.480123\n",
            "comm_round: 176/200 | test_acc: 98.930% | test_loss: 0.033351700752973557 | train_acc: 99.130% | train_loss: 0.025490762665867805 | elapsed: 0:26:31.190365\n",
            "comm_round: 177/200 | test_acc: 98.830% | test_loss: 0.035910896956920624 | train_acc: 98.875% | train_loss: 0.03161615505814552 | elapsed: 0:26:40.307204\n",
            "comm_round: 178/200 | test_acc: 98.770% | test_loss: 0.03557008504867554 | train_acc: 98.938% | train_loss: 0.03014202229678631 | elapsed: 0:26:49.251096\n",
            "comm_round: 179/200 | test_acc: 98.910% | test_loss: 0.03209953382611275 | train_acc: 99.092% | train_loss: 0.025899196043610573 | elapsed: 0:26:58.004933\n",
            "comm_round: 180/200 | test_acc: 98.950% | test_loss: 0.03337636590003967 | train_acc: 99.098% | train_loss: 0.026180822402238846 | elapsed: 0:27:07.030196\n",
            "comm_round: 181/200 | test_acc: 99.000% | test_loss: 0.030590660870075226 | train_acc: 99.212% | train_loss: 0.023511800915002823 | elapsed: 0:27:16.063547\n",
            "comm_round: 182/200 | test_acc: 98.920% | test_loss: 0.0320848673582077 | train_acc: 99.103% | train_loss: 0.02603817917406559 | elapsed: 0:27:24.817860\n",
            "comm_round: 183/200 | test_acc: 98.680% | test_loss: 0.03865119814872742 | train_acc: 98.923% | train_loss: 0.03141075000166893 | elapsed: 0:27:33.869401\n",
            "comm_round: 184/200 | test_acc: 98.880% | test_loss: 0.03356243669986725 | train_acc: 99.127% | train_loss: 0.026174122467637062 | elapsed: 0:27:42.842415\n",
            "comm_round: 185/200 | test_acc: 98.920% | test_loss: 0.032043859362602234 | train_acc: 99.212% | train_loss: 0.024158475920557976 | elapsed: 0:27:51.597815\n",
            "comm_round: 186/200 | test_acc: 99.040% | test_loss: 0.028618494048714638 | train_acc: 99.323% | train_loss: 0.020215144380927086 | elapsed: 0:28:00.667413\n",
            "comm_round: 187/200 | test_acc: 99.050% | test_loss: 0.028680969029664993 | train_acc: 99.260% | train_loss: 0.02152945101261139 | elapsed: 0:28:09.688195\n",
            "comm_round: 188/200 | test_acc: 99.100% | test_loss: 0.030348680913448334 | train_acc: 99.183% | train_loss: 0.025323407724499702 | elapsed: 0:28:18.495985\n",
            "comm_round: 189/200 | test_acc: 99.100% | test_loss: 0.02835150808095932 | train_acc: 99.257% | train_loss: 0.022047298029065132 | elapsed: 0:28:27.587680\n",
            "comm_round: 190/200 | test_acc: 98.830% | test_loss: 0.03663904219865799 | train_acc: 99.088% | train_loss: 0.027190694585442543 | elapsed: 0:28:36.760542\n",
            "comm_round: 191/200 | test_acc: 99.030% | test_loss: 0.031181396916508675 | train_acc: 99.277% | train_loss: 0.021976932883262634 | elapsed: 0:28:45.542791\n",
            "comm_round: 192/200 | test_acc: 98.900% | test_loss: 0.034112684428691864 | train_acc: 99.095% | train_loss: 0.026897570118308067 | elapsed: 0:28:54.651698\n",
            "comm_round: 193/200 | test_acc: 98.760% | test_loss: 0.036969926208257675 | train_acc: 99.080% | train_loss: 0.027323415502905846 | elapsed: 0:29:03.663681\n",
            "comm_round: 194/200 | test_acc: 99.120% | test_loss: 0.026888232678174973 | train_acc: 99.340% | train_loss: 0.019262218847870827 | elapsed: 0:29:12.480247\n",
            "comm_round: 195/200 | test_acc: 99.060% | test_loss: 0.027537409216165543 | train_acc: 99.318% | train_loss: 0.01937791146337986 | elapsed: 0:29:21.679631\n",
            "comm_round: 196/200 | test_acc: 99.010% | test_loss: 0.029133440926671028 | train_acc: 99.212% | train_loss: 0.022491682320833206 | elapsed: 0:29:30.703249\n",
            "comm_round: 197/200 | test_acc: 99.170% | test_loss: 0.025912756100296974 | train_acc: 99.348% | train_loss: 0.01953890733420849 | elapsed: 0:29:39.468311\n",
            "comm_round: 198/200 | test_acc: 99.140% | test_loss: 0.02609284594655037 | train_acc: 99.372% | train_loss: 0.018901873379945755 | elapsed: 0:29:48.497422\n",
            "comm_round: 199/200 | test_acc: 98.710% | test_loss: 0.03778873383998871 | train_acc: 99.075% | train_loss: 0.028248906135559082 | elapsed: 0:29:57.561805\n",
            "comm_round: 200/200 | test_acc: 99.050% | test_loss: 0.031840089708566666 | train_acc: 99.162% | train_loss: 0.02627003937959671 | elapsed: 0:30:06.404420\n"
          ],
          "name": "stdout"
        }
      ]
    },
    {
      "cell_type": "code",
      "metadata": {
        "id": "SjxAylw34hsU"
      },
      "source": [
        "with open(dir+'result_per_lr_{}_{}_{}_{}_{}.pickle'.format(B,C,E,MODEL,DATA), 'wb') as handle:\r\n",
        "    pickle.dump(result_per_lr, handle, protocol=pickle.HIGHEST_PROTOCOL)"
      ],
      "execution_count": 21,
      "outputs": []
    },
    {
      "cell_type": "code",
      "metadata": {
        "id": "5c5QZpBTpnVG",
        "colab": {
          "base_uri": "https://localhost:8080/"
        },
        "outputId": "5dee28fe-f55b-4c97-d99f-a8277d488637"
      },
      "source": [
        "# drive.flush_and_unmount()\r\n",
        "# drive.mount('/content/drive/', force_remount=True)"
      ],
      "execution_count": 22,
      "outputs": [
        {
          "output_type": "stream",
          "text": [
            "Mounted at /content/drive/\n"
          ],
          "name": "stdout"
        }
      ]
    },
    {
      "cell_type": "code",
      "metadata": {
        "id": "NQZ6wvfbleki"
      },
      "source": [
        "# with open(dir+'result_per_lr_all_0_1_mlp_iid.pickle', 'rb') as handle:\r\n",
        "#     result_per_lr = pickle.load(handle)"
      ],
      "execution_count": null,
      "outputs": []
    },
    {
      "cell_type": "markdown",
      "metadata": {
        "id": "M3TRWzX41JJM"
      },
      "source": [
        "## Generate Plots"
      ]
    },
    {
      "cell_type": "code",
      "metadata": {
        "id": "cqMYsWoCXkAu"
      },
      "source": [
        "# target_test_acc = 0.99"
      ],
      "execution_count": null,
      "outputs": []
    },
    {
      "cell_type": "code",
      "metadata": {
        "id": "pdKqfMGbHq0j"
      },
      "source": [
        "def get_plotted_metrics(result_per_lr, comm_rounds=None):\r\n",
        "  plotted_train_accs= []\r\n",
        "  plotted_test_accs = []\r\n",
        "  plotted_train_losses = []\r\n",
        "  plotted_test_losses = []\r\n",
        "  if comm_rounds:\r\n",
        "    c_rounds = comm_rounds\r\n",
        "  for c in range(c_rounds):\r\n",
        "    best_train_acc = 0\r\n",
        "    best_test_acc = 0\r\n",
        "    best_train_loss = math.inf\r\n",
        "    best_test_loss = math.inf\r\n",
        "    for lr in result_per_lr.keys():\r\n",
        "      best_train_acc = max(best_train_acc, result_per_lr[lr]['train_accs'][c])\r\n",
        "      best_test_acc = max(best_test_acc, result_per_lr[lr]['test_accs'][c])\r\n",
        "      best_train_loss = min(best_train_loss, result_per_lr[lr]['train_losses'][c])\r\n",
        "      best_test_loss = min(best_test_loss, result_per_lr[lr]['test_losses'][c])\r\n",
        "\r\n",
        "    if c == 0:\r\n",
        "      plotted_train_accs.append(best_train_acc)\r\n",
        "      plotted_test_accs.append(best_test_acc)\r\n",
        "      plotted_train_losses.append(best_train_loss)\r\n",
        "      plotted_test_losses.append(best_test_loss)\r\n",
        "    else:\r\n",
        "      if plotted_train_accs[-1] > best_train_acc:\r\n",
        "        plotted_train_accs.append(plotted_train_accs[-1])\r\n",
        "      else:\r\n",
        "        plotted_train_accs.append(best_train_acc)\r\n",
        "\r\n",
        "      if plotted_test_accs[-1] > best_test_acc:\r\n",
        "        plotted_test_accs.append(plotted_test_accs[-1])\r\n",
        "      else:\r\n",
        "        plotted_test_accs.append(best_test_acc)\r\n",
        "\r\n",
        "      if plotted_train_losses[-1] < best_train_loss:\r\n",
        "        plotted_train_losses.append(plotted_train_losses[-1])\r\n",
        "      else:\r\n",
        "        plotted_train_losses.append(best_train_loss)\r\n",
        "\r\n",
        "      if plotted_test_losses[-1] < best_test_loss:\r\n",
        "        plotted_test_losses.append(plotted_test_losses[-1])\r\n",
        "      else:\r\n",
        "        plotted_test_losses.append(best_test_loss)\r\n",
        "\r\n",
        "  return plotted_train_accs, plotted_test_accs, plotted_train_losses, plotted_test_losses\r\n",
        "\r\n"
      ],
      "execution_count": 22,
      "outputs": []
    },
    {
      "cell_type": "code",
      "metadata": {
        "id": "IBuUWTJSHfY0"
      },
      "source": [
        "plotted_train_accs, plotted_test_accs, plotted_train_losses, plotted_test_losses = get_plotted_metrics(result_per_lr)"
      ],
      "execution_count": 24,
      "outputs": []
    },
    {
      "cell_type": "code",
      "metadata": {
        "id": "mXsI2epgKJqp",
        "colab": {
          "base_uri": "https://localhost:8080/",
          "height": 295
        },
        "outputId": "f22a5970-9e55-48ec-a139-266dedf8dcb3"
      },
      "source": [
        "fig, ax = plt.subplots()\r\n",
        "ax.plot(range(1, len(plotted_train_accs)+1), plotted_train_accs, label='train')\r\n",
        "ax.plot(range(1,len(plotted_test_accs)+1), plotted_test_accs, label='test')\r\n",
        "ax.set_xticks(np.arange(0, len(plotted_test_accs)+1, 100))\r\n",
        "ax.axhline(y=target_test_acc, color='grey', linestyle='-', linewidth=0.5)\r\n",
        "ax.set_ylabel('accuracy')\r\n",
        "\r\n",
        "ax.set_xlabel('communication rounds')\r\n",
        "ax.set_title('B={}, C={}, E={}, Model={}, Data={}'.format(B, C, E, MODEL, DATA))\r\n",
        "ax.legend()\r\n",
        "\r\n",
        "ax2 = ax.twinx()\r\n",
        "ax2.set_ylim(ax.get_ylim())\r\n",
        "ax2.set_yticks([target_test_acc])\r\n",
        "\r\n",
        "plt.show()\r\n",
        "\r\n",
        "# plt.savefig('./save/fed_{}_{}_{}_C{}_iid{}.png'.format(args.dataset, args.model, args.epochs, args.frac, args.iid))"
      ],
      "execution_count": 25,
      "outputs": [
        {
          "output_type": "display_data",
          "data": {
            "image/png": "[encoded data removed]",
            "text/plain": [
              "<Figure size 432x288 with 2 Axes>"
            ]
          },
          "metadata": {
            "tags": [],
            "needs_background": "light"
          }
        }
      ]
    },
    {
      "cell_type": "code",
      "metadata": {
        "id": "n_V7ncW-vD2v",
        "colab": {
          "base_uri": "https://localhost:8080/"
        },
        "outputId": "f97171b6-2389-4a1a-eaba-31d18dd8c4c6"
      },
      "source": [
        "n_round_at_target = None\r\n",
        "for i,acc in enumerate(plotted_test_accs):\r\n",
        "  if acc>=target_test_acc:\r\n",
        "    print(\"the number of rounds to achieve target test-accuracy: \")\r\n",
        "    n_round_at_target = i+1\r\n",
        "    print(n_round_at_target)\r\n",
        "    break;\r\n"
      ],
      "execution_count": 26,
      "outputs": [
        {
          "output_type": "stream",
          "text": [
            "the number of rounds to achieve target test-accuracy: \n",
            "139\n"
          ],
          "name": "stdout"
        }
      ]
    },
    {
      "cell_type": "code",
      "metadata": {
        "id": "TD8UjzUIyNQx",
        "colab": {
          "base_uri": "https://localhost:8080/"
        },
        "outputId": "02747e8e-c79c-4c55-8ad1-be06f5cf7124"
      },
      "source": [
        "loss_at_target = None\r\n",
        "for i,loss in \r\n",
        "(plotted_test_losses):\r\n",
        "  if n_round_at_target and i==n_round_at_target-1:\r\n",
        "    print(\"loss at target test-accuracy: \")\r\n",
        "    loss_at_target = loss\r\n",
        "    print(loss_at_target)\r\n",
        "    break;\r\n"
      ],
      "execution_count": 27,
      "outputs": [
        {
          "output_type": "stream",
          "text": [
            "loss at target test-accuracy: \n",
            "0.030209027\n"
          ],
          "name": "stdout"
        }
      ]
    },
    {
      "cell_type": "code",
      "metadata": {
        "id": "pyz3S4KexiZq",
        "colab": {
          "base_uri": "https://localhost:8080/",
          "height": 295
        },
        "outputId": "e47f814b-eea6-4b9f-ca14-499df144be62"
      },
      "source": [
        "fig, ax = plt.subplots()\r\n",
        "ax.plot(range(1, len(plotted_train_losses)+1), plotted_train_losses, label='train')\r\n",
        "ax.plot(range(1,len(plotted_test_losses)+1), plotted_test_losses, label='test')\r\n",
        "ax.set_xticks(np.arange(0, len(plotted_test_losses)+1, 100))\r\n",
        "if loss_at_target is not None:\r\n",
        "  ax.axhline(loss_at_target, color='grey', linestyle='-', linewidth=0.5)\r\n",
        "ax.set_ylabel('loss')\r\n",
        "ax.set_xlabel('communication rounds')\r\n",
        "ax.set_title('B={}, C={}, E={}, Model={}, Data={}'.format(B, C, E, MODEL, DATA))\r\n",
        "ax.legend()\r\n",
        "\r\n",
        "ax2 = ax.twinx()\r\n",
        "ax2.set_ylim(ax.get_ylim())\r\n",
        "if loss_at_target is not None:\r\n",
        "  ax2.set_yticks([loss_at_target])\r\n",
        "\r\n",
        "plt.show()\r\n",
        "\r\n",
        "# plt.savefig('./save/fed_{}_{}_{}_C{}_iid{}.png'.format(args.dataset, args.model, args.epochs, args.frac, args.iid))"
      ],
      "execution_count": 28,
      "outputs": [
        {
          "output_type": "display_data",
          "data": {
            "image/png": "[encoded data removed]",
            "text/plain": [
              "<Figure size 432x288 with 2 Axes>"
            ]
          },
          "metadata": {
            "tags": [],
            "needs_background": "light"
          }
        }
      ]
    },
    {
      "cell_type": "code",
      "metadata": {
        "id": "uSJYC_sdx-xm"
      },
      "source": [
        ""
      ],
      "execution_count": 28,
      "outputs": []
    },
    {
      "cell_type": "markdown",
      "metadata": {
        "id": "P1RAgMaLXyYj"
      },
      "source": [
        "## Generate Multi Cases Plots"
      ]
    },
    {
      "cell_type": "markdown",
      "metadata": {
        "id": "YSKWzg0kX5O9"
      },
      "source": [
        "Here, we first need to copy manually all of the training result files that we want to be included in the generated plot. So that the `os.listdir()` can detect the files."
      ]
    },
    {
      "cell_type": "code",
      "metadata": {
        "id": "VPmBRpawDTsR"
      },
      "source": [
        "result_files = os.listdir()\r\n",
        "result_files = [file for file in result_files if 'result' and '_iid' in file]\r\n",
        "result_files.sort()"
      ],
      "execution_count": 127,
      "outputs": []
    },
    {
      "cell_type": "code",
      "metadata": {
        "colab": {
          "base_uri": "https://localhost:8080/"
        },
        "id": "qAU6vI5vDqFL",
        "outputId": "ec1ec673-6ba8-4b64-efb3-5fed529b4ea4"
      },
      "source": [
        "result_files"
      ],
      "execution_count": 128,
      "outputs": [
        {
          "output_type": "execute_result",
          "data": {
            "text/plain": [
              "['result_per_lr_10_0.1_1_cnn_noniid.pickle',\n",
              " 'result_per_lr_10_0.1_20_cnn_noniid.pickle',\n",
              " 'result_per_lr_50_0.1_1_cnn_noniid.pickle',\n",
              " 'result_per_lr_50_0.1_20_cnn_noniid.pickle',\n",
              " 'result_per_lr_all_0.1_1_cnn_noniid.pickle',\n",
              " 'result_per_lr_all_0.1_20_cnn_noniid.pickle']"
            ]
          },
          "metadata": {
            "tags": []
          },
          "execution_count": 128
        }
      ]
    },
    {
      "cell_type": "code",
      "metadata": {
        "id": "xrpFOebHFjPb"
      },
      "source": [
        ""
      ],
      "execution_count": 122,
      "outputs": []
    },
    {
      "cell_type": "code",
      "metadata": {
        "colab": {
          "base_uri": "https://localhost:8080/",
          "height": 458
        },
        "id": "Jd9gUcXCDx7N",
        "outputId": "8aa3c1d8-8bf6-44d5-df33-bcee65c58e4c"
      },
      "source": [
        "colors = ['tab:red', 'tab:orange', 'tab:blue']\r\n",
        "fig, ax = plt.subplots(figsize=(14,7))\r\n",
        "for i,file in enumerate(result_files):\r\n",
        "  with open(file, 'rb') as handle:\r\n",
        "    result_per_lr = pickle.load(handle)\r\n",
        "  plotted_train_accs, plotted_test_accs, plotted_train_losses, plotted_test_losses = get_plotted_metrics(result_per_lr, 200)\r\n",
        "\r\n",
        "  batch = re.search('(?<=result_per_lr_)(.*?)(?=_)', file).groups()[0]\r\n",
        "  epoch = re.search('(?:.*?_){5}(.*?)(?=_)', file).groups()[0]\r\n",
        "  batch = '∞' if batch=='all' else batch\r\n",
        "\r\n",
        "  color = colors[int(i/2)%3]\r\n",
        "  linestyle = '-' if i%2==0 else '--'\r\n",
        "  ax.plot(range(1, len(plotted_test_accs)+1), plotted_test_accs, label='B={}  E={}'.format(batch, epoch), color=color, linestyle=linestyle)\r\n",
        "ax.set_xticks(np.arange(0, len(plotted_test_accs)+1, 100))\r\n",
        "ax.axhline(y=0.99, color='grey', linestyle='-', linewidth=0.5)\r\n",
        "ax.set_ylabel('test accuracy')\r\n",
        "\r\n",
        "ax.set_xlabel('communication rounds')\r\n",
        "ax.set_title('MNIST CNN IID')\r\n",
        "ax.legend()\r\n",
        "\r\n",
        "ax.set_ylim((0.9, 1.0005))\r\n",
        "\r\n",
        "ax2 = ax.twinx()\r\n",
        "ax2.set_ylim(ax.get_ylim())\r\n",
        "ax2.set_yticks([0.99])\r\n",
        "\r\n",
        "plt.show()\r\n",
        "\r\n",
        "# plt.savefig('./save/fed_{}_{}_{}_C{}_iid{}.png'.format(args.dataset, args.model, args.epochs, args.frac, args.iid))"
      ],
      "execution_count": 126,
      "outputs": [
        {
          "output_type": "display_data",
          "data": {
            "image/png": "[encoded data removed]",
            "text/plain": [
              "<Figure size 1008x504 with 2 Axes>"
            ]
          },
          "metadata": {
            "tags": [],
            "needs_background": "light"
          }
        }
      ]
    },
    {
      "cell_type": "code",
      "metadata": {
        "id": "OYGWw4KPYtDI"
      },
      "source": [
        "result_files = os.listdir()\r\n",
        "result_files = [file for file in result_files if 'result' and 'noniid' in file]\r\n",
        "result_files.sort()"
      ],
      "execution_count": null,
      "outputs": []
    },
    {
      "cell_type": "code",
      "metadata": {
        "colab": {
          "base_uri": "https://localhost:8080/",
          "height": 458
        },
        "id": "_7-ONaRwGCpP",
        "outputId": "c72307b2-73aa-45ae-9dad-475a59b96342"
      },
      "source": [
        "colors = ['tab:red', 'tab:orange', 'tab:blue']\r\n",
        "fig, ax = plt.subplots(figsize=(14,7))\r\n",
        "for i,file in enumerate(result_files):\r\n",
        "  with open(file, 'rb') as handle:\r\n",
        "    result_per_lr = pickle.load(handle)\r\n",
        "  plotted_train_accs, plotted_test_accs, plotted_train_losses, plotted_test_losses = get_plotted_metrics(result_per_lr, 200)\r\n",
        "\r\n",
        "  batch = re.search('(?<=result_per_lr_)(.*?)(?=_)', file).groups()[0]\r\n",
        "  epoch = re.search('(?:.*?_){5}(.*?)(?=_)', file).groups()[0]\r\n",
        "  batch = '∞' if batch=='all' else batch\r\n",
        "\r\n",
        "  color = colors[int(i/2)%3]\r\n",
        "  linestyle = '-' if i%2==0 else '--'\r\n",
        "  ax.plot(range(1, len(plotted_test_accs)+1), plotted_test_accs, label='B={}  E={}'.format(batch, epoch), color=color, linestyle=linestyle)\r\n",
        "ax.set_xticks(np.arange(0, len(plotted_test_accs)+1, 100))\r\n",
        "ax.axhline(y=0.99, color='grey', linestyle='-', linewidth=0.5)\r\n",
        "ax.set_ylabel('test accuracy')\r\n",
        "\r\n",
        "ax.set_xlabel('communication rounds')\r\n",
        "ax.set_title('MNIST CNN Non-IID')\r\n",
        "ax.legend()\r\n",
        "\r\n",
        "ax.set_ylim((0.9, 1.0005))\r\n",
        "\r\n",
        "ax2 = ax.twinx()\r\n",
        "ax2.set_ylim(ax.get_ylim())\r\n",
        "ax2.set_yticks([0.99])\r\n",
        "\r\n",
        "plt.show()\r\n",
        "\r\n",
        "# plt.savefig('./save/fed_{}_{}_{}_C{}_iid{}.png'.format(args.dataset, args.model, args.epochs, args.frac, args.iid))"
      ],
      "execution_count": 129,
      "outputs": [
        {
          "output_type": "display_data",
          "data": {
            "image/png": "[encoded data removed]",
            "text/plain": [
              "<Figure size 1008x504 with 2 Axes>"
            ]
          },
          "metadata": {
            "tags": [],
            "needs_background": "light"
          }
        }
      ]
    },
    {
      "cell_type": "code",
      "metadata": {
        "id": "79zqIhyoH5Vu"
      },
      "source": [
        ""
      ],
      "execution_count": 75,
      "outputs": []
    },
    {
      "cell_type": "code",
      "metadata": {
        "id": "wV35H5DDJQC9"
      },
      "source": [
        ""
      ],
      "execution_count": 6,
      "outputs": []
    },
    {
      "cell_type": "code",
      "metadata": {
        "id": "ZvvjRsyGxtQ6"
      },
      "source": [
        ""
      ],
      "execution_count": 6,
      "outputs": []
    },
    {
      "cell_type": "code",
      "metadata": {
        "id": "pbbTbclIxz4X"
      },
      "source": [
        ""
      ],
      "execution_count": null,
      "outputs": []
    }
  ]
}